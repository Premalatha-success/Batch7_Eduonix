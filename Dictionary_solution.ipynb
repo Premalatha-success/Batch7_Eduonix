{
 "cells": [
  {
   "cell_type": "code",
   "execution_count": null,
   "id": "6466e175-3c49-45b2-8ce1-d9d6e25ebad3",
   "metadata": {},
   "outputs": [],
   "source": [
    "1.\tCreate a dictionary with three key-value pairs: name, age, and city.\n",
    "2.\tHow would you access the value associated with the key \"age\" in the dictionary {\"name\": \"John\", \"age\": 25, \"city\": \"New York\"}?\n",
    "3.\tAdd a new key-value pair to the dictionary {\"brand\": \"Ford\", \"model\": \"Mustang\"} for the year 2020.\n",
    "4.\tWrite a Python code to remove the key \"city\" from the dictionary {\"name\": \"Alice\", \"city\": \"Paris\"}.\n",
    "5.\tHow would you get all the keys from the dictionary {\"fruit\": \"apple\", \"vegetable\": \"carrot\"}?\n",
    "6.\tCheck if the key \"price\" exists in the dictionary {\"item\": \"pen\", \"color\": \"blue\"}.\n",
    "7.\tMerge the two dictionaries {\"a\": 1, \"b\": 2} and {\"c\": 3, \"d\": 4}.\n",
    "8.\tWrite a Python code to update the value of \"name\" to \"Mike\" in the dictionary {\"name\": \"John\", \"age\": 22}.\n",
    "9.\tHow would you loop through all the key-value pairs in the dictionary {\"animal\": \"dog\", \"sound\": \"bark\"}?\n",
    "10.\tCreate an empty dictionary and add three key-value pairs.\n",
    "\n"
   ]
  },
  {
   "cell_type": "code",
   "execution_count": 1,
   "id": "85fa8739-f3c5-42bb-8746-f4a0413936ad",
   "metadata": {},
   "outputs": [
    {
     "data": {
      "text/plain": [
       "{'name': 'Latha', 'age': 40, 'city': 'Chennai'}"
      ]
     },
     "execution_count": 1,
     "metadata": {},
     "output_type": "execute_result"
    }
   ],
   "source": [
    "sample_dict={\"name\":\"Latha\",\"age\":40,\"city\":\"Chennai\"}\n",
    "sample_dict"
   ]
  },
  {
   "cell_type": "code",
   "execution_count": 2,
   "id": "1b6b4bdf-9988-44c8-b327-687d1bd82bde",
   "metadata": {},
   "outputs": [
    {
     "data": {
      "text/plain": [
       "25"
      ]
     },
     "execution_count": 2,
     "metadata": {},
     "output_type": "execute_result"
    }
   ],
   "source": [
    "dict={\"name\": \"John\", \"age\": 25, \"city\": \"New York\"}\n",
    "dict[\"age\"]"
   ]
  },
  {
   "cell_type": "code",
   "execution_count": 3,
   "id": "ba78a29a-84cf-443b-8e21-cf7eac5721cc",
   "metadata": {},
   "outputs": [],
   "source": [
    "dict={\"brand\": \"Ford\", \"model\": \"Mustang\"}\n"
   ]
  },
  {
   "cell_type": "code",
   "execution_count": 4,
   "id": "67274c42-9164-444e-aee4-228e4efb10a0",
   "metadata": {},
   "outputs": [],
   "source": [
    "dict[\"year\"]=2020"
   ]
  },
  {
   "cell_type": "code",
   "execution_count": 5,
   "id": "7e82d4dd-d398-41cd-919b-f2c878a1d83f",
   "metadata": {},
   "outputs": [
    {
     "data": {
      "text/plain": [
       "{'brand': 'Ford', 'model': 'Mustang', 'year': 2020}"
      ]
     },
     "execution_count": 5,
     "metadata": {},
     "output_type": "execute_result"
    }
   ],
   "source": [
    "dict"
   ]
  },
  {
   "cell_type": "code",
   "execution_count": 6,
   "id": "d417c521-df35-4fdb-9348-a32caf41b164",
   "metadata": {},
   "outputs": [],
   "source": [
    "dict1={\"name\": \"Alice\", \"city\": \"Paris\"}"
   ]
  },
  {
   "cell_type": "code",
   "execution_count": 7,
   "id": "0700603a-fe31-431c-8e20-c742ac93eade",
   "metadata": {},
   "outputs": [
    {
     "data": {
      "text/plain": [
       "'Paris'"
      ]
     },
     "execution_count": 7,
     "metadata": {},
     "output_type": "execute_result"
    }
   ],
   "source": [
    "dict1.pop(\"city\")"
   ]
  },
  {
   "cell_type": "code",
   "execution_count": 8,
   "id": "aa8b56ba-6545-4d79-8728-a30d28b9e740",
   "metadata": {},
   "outputs": [
    {
     "data": {
      "text/plain": [
       "{'name': 'Alice'}"
      ]
     },
     "execution_count": 8,
     "metadata": {},
     "output_type": "execute_result"
    }
   ],
   "source": [
    "dict1"
   ]
  },
  {
   "cell_type": "code",
   "execution_count": 9,
   "id": "4e53b410-426a-4704-939e-38c80e60bd39",
   "metadata": {},
   "outputs": [],
   "source": [
    "dict1={\"name\": \"Alice\", \"city\": \"Paris\"}"
   ]
  },
  {
   "cell_type": "code",
   "execution_count": 10,
   "id": "b96f5879-f8e7-4cda-9acd-54027a4762a5",
   "metadata": {},
   "outputs": [
    {
     "data": {
      "text/plain": [
       "{'name': 'Alice'}"
      ]
     },
     "execution_count": 10,
     "metadata": {},
     "output_type": "execute_result"
    }
   ],
   "source": [
    "del dict1[\"city\"]\n",
    "dict1"
   ]
  },
  {
   "cell_type": "code",
   "execution_count": 11,
   "id": "1f076f4f-c355-4511-96ae-c9ea7c5068b5",
   "metadata": {},
   "outputs": [
    {
     "data": {
      "text/plain": [
       "dict_keys(['fruit', 'vegetable'])"
      ]
     },
     "execution_count": 11,
     "metadata": {},
     "output_type": "execute_result"
    }
   ],
   "source": [
    "items={\"fruit\": \"apple\", \"vegetable\": \"carrot\"}\n",
    "items.keys()"
   ]
  },
  {
   "cell_type": "code",
   "execution_count": 13,
   "id": "20268505-b135-40fc-878b-f4ed21b7342c",
   "metadata": {},
   "outputs": [],
   "source": [
    "dict={\"item\": \"pen\", \"color\": \"blue\"}"
   ]
  },
  {
   "cell_type": "code",
   "execution_count": 15,
   "id": "7b8e9683-541e-4b25-b01b-360434f85bf7",
   "metadata": {},
   "outputs": [
    {
     "name": "stdout",
     "output_type": "stream",
     "text": [
      "False\n"
     ]
    }
   ],
   "source": [
    "print(\"price\" in dict)"
   ]
  },
  {
   "cell_type": "code",
   "execution_count": 17,
   "id": "dacc9e73-6522-402e-8f83-3f4c8054cf69",
   "metadata": {},
   "outputs": [
    {
     "name": "stdout",
     "output_type": "stream",
     "text": [
      "True\n"
     ]
    }
   ],
   "source": [
    "print(\"item\" in dict)"
   ]
  },
  {
   "cell_type": "code",
   "execution_count": 18,
   "id": "ec0e5a91-7c86-4f1d-bdab-6e37e6e6dbe9",
   "metadata": {},
   "outputs": [
    {
     "ename": "TypeError",
     "evalue": "unsupported operand type(s) for +: 'dict' and 'dict'",
     "output_type": "error",
     "traceback": [
      "\u001b[1;31m---------------------------------------------------------------------------\u001b[0m",
      "\u001b[1;31mTypeError\u001b[0m                                 Traceback (most recent call last)",
      "Cell \u001b[1;32mIn[18], line 3\u001b[0m\n\u001b[0;32m      1\u001b[0m dict1\u001b[38;5;241m=\u001b[39m{\u001b[38;5;124m\"\u001b[39m\u001b[38;5;124ma\u001b[39m\u001b[38;5;124m\"\u001b[39m: \u001b[38;5;241m1\u001b[39m, \u001b[38;5;124m\"\u001b[39m\u001b[38;5;124mb\u001b[39m\u001b[38;5;124m\"\u001b[39m: \u001b[38;5;241m2\u001b[39m}\n\u001b[0;32m      2\u001b[0m dict2\u001b[38;5;241m=\u001b[39m{\u001b[38;5;124m\"\u001b[39m\u001b[38;5;124mc\u001b[39m\u001b[38;5;124m\"\u001b[39m: \u001b[38;5;241m3\u001b[39m, \u001b[38;5;124m\"\u001b[39m\u001b[38;5;124md\u001b[39m\u001b[38;5;124m\"\u001b[39m: \u001b[38;5;241m4\u001b[39m}\n\u001b[1;32m----> 3\u001b[0m dict3\u001b[38;5;241m=\u001b[39mdict1\u001b[38;5;241m+\u001b[39mdict2\n",
      "\u001b[1;31mTypeError\u001b[0m: unsupported operand type(s) for +: 'dict' and 'dict'"
     ]
    }
   ],
   "source": [
    "dict1={\"a\": 1, \"b\": 2}\n",
    "dict2={\"c\": 3, \"d\": 4}\n",
    "dict3=dict1+dict2"
   ]
  },
  {
   "cell_type": "code",
   "execution_count": 19,
   "id": "0a756bae-7d18-4114-b29f-eb746c7be1f7",
   "metadata": {},
   "outputs": [],
   "source": [
    "dict3=dict1|dict2"
   ]
  },
  {
   "cell_type": "code",
   "execution_count": 20,
   "id": "c9a78631-0428-4f27-9ce3-3780969e6e45",
   "metadata": {},
   "outputs": [
    {
     "data": {
      "text/plain": [
       "{'a': 1, 'b': 2, 'c': 3, 'd': 4}"
      ]
     },
     "execution_count": 20,
     "metadata": {},
     "output_type": "execute_result"
    }
   ],
   "source": [
    "dict3"
   ]
  },
  {
   "cell_type": "code",
   "execution_count": 21,
   "id": "05dddf81-0190-4a8a-a10d-5d738169c198",
   "metadata": {},
   "outputs": [
    {
     "data": {
      "text/plain": [
       "{'a': 1, 'b': 2, 'c': 3, 'd': 4}"
      ]
     },
     "execution_count": 21,
     "metadata": {},
     "output_type": "execute_result"
    }
   ],
   "source": [
    "d1={\"a\": 1, \"b\": 2}\n",
    "d2={\"c\": 3, \"d\": 4}\n",
    "d1.update(d2)\n",
    "d1"
   ]
  },
  {
   "cell_type": "code",
   "execution_count": 22,
   "id": "e6f2f2a5-7908-4d2c-a222-cc63c290d721",
   "metadata": {},
   "outputs": [
    {
     "data": {
      "text/plain": [
       "{'name': 'Mike', 'age': 22}"
      ]
     },
     "execution_count": 22,
     "metadata": {},
     "output_type": "execute_result"
    }
   ],
   "source": [
    "dict={\"name\": \"John\", \"age\": 22}\n",
    "dict.update(name=\"Mike\")\n",
    "dict"
   ]
  },
  {
   "cell_type": "code",
   "execution_count": 23,
   "id": "ae48beeb-c9c2-4adb-a707-384324f73118",
   "metadata": {},
   "outputs": [
    {
     "name": "stdout",
     "output_type": "stream",
     "text": [
      "('animal', 'dog')\n",
      "('sound', 'bark')\n"
     ]
    }
   ],
   "source": [
    "dict1={\"animal\": \"dog\", \"sound\": \"bark\"}\n",
    "for x in dict1.items():\n",
    "    print(x)"
   ]
  },
  {
   "cell_type": "code",
   "execution_count": 25,
   "id": "35b8ea82-c251-4bc3-93a1-f21be3c61422",
   "metadata": {},
   "outputs": [],
   "source": [
    "dict={}\n"
   ]
  },
  {
   "cell_type": "code",
   "execution_count": 26,
   "id": "ee0b0d14-3dca-46bb-89fd-1adb4a76f136",
   "metadata": {},
   "outputs": [
    {
     "data": {
      "text/plain": [
       "{}"
      ]
     },
     "execution_count": 26,
     "metadata": {},
     "output_type": "execute_result"
    }
   ],
   "source": [
    "dict"
   ]
  },
  {
   "cell_type": "code",
   "execution_count": 27,
   "id": "d2e70cf8-bac5-497e-b95f-7b2c01c0da08",
   "metadata": {},
   "outputs": [
    {
     "data": {
      "text/plain": [
       "{'name': 'Latha', 'job': 'Trainer', 'gender': 'Female'}"
      ]
     },
     "execution_count": 27,
     "metadata": {},
     "output_type": "execute_result"
    }
   ],
   "source": [
    "dict[\"name\"]=\"Latha\"\n",
    "dict[\"job\"]=\"Trainer\"\n",
    "dict[\"gender\"]=\"Female\"\n",
    "dict"
   ]
  },
  {
   "cell_type": "code",
   "execution_count": null,
   "id": "6af45b74-9914-46bb-be57-e18de6a60beb",
   "metadata": {},
   "outputs": [],
   "source": []
  }
 ],
 "metadata": {
  "kernelspec": {
   "display_name": "Python 3 (ipykernel)",
   "language": "python",
   "name": "python3"
  },
  "language_info": {
   "codemirror_mode": {
    "name": "ipython",
    "version": 3
   },
   "file_extension": ".py",
   "mimetype": "text/x-python",
   "name": "python",
   "nbconvert_exporter": "python",
   "pygments_lexer": "ipython3",
   "version": "3.11.7"
  }
 },
 "nbformat": 4,
 "nbformat_minor": 5
}
