{
 "cells": [
  {
   "cell_type": "markdown",
   "id": "9e362411-fae9-48ae-a8f7-a5570dafd7d5",
   "metadata": {},
   "source": [
    "##### Create a string variable with your full name."
   ]
  },
  {
   "cell_type": "code",
   "execution_count": 2,
   "id": "8abfdc1b-c6b8-498d-b51b-c84114b3492e",
   "metadata": {},
   "outputs": [
    {
     "data": {
      "text/plain": [
       "'Premalatha'"
      ]
     },
     "execution_count": 2,
     "metadata": {},
     "output_type": "execute_result"
    }
   ],
   "source": [
    "my_name=\"Premalatha\"\n",
    "my_name"
   ]
  },
  {
   "cell_type": "markdown",
   "id": "93c3df01-c9d4-4ef4-a41c-16f1cc3c0a31",
   "metadata": {},
   "source": [
    "##### What is the length of the string \"PythonProgramming\"?"
   ]
  },
  {
   "cell_type": "code",
   "execution_count": 3,
   "id": "4c0dd6de-20b4-46a3-abf7-b8fb08783a18",
   "metadata": {},
   "outputs": [
    {
     "data": {
      "text/plain": [
       "17"
      ]
     },
     "execution_count": 3,
     "metadata": {},
     "output_type": "execute_result"
    }
   ],
   "source": [
    "string1=\"PythonProgramming\"\n",
    "len(string1)"
   ]
  },
  {
   "cell_type": "markdown",
   "id": "513c4b0d-7303-4ca1-83fc-47462537140a",
   "metadata": {},
   "source": [
    "##### How would you extract the first three characters of the string \"DataScience\"?"
   ]
  },
  {
   "cell_type": "code",
   "execution_count": 4,
   "id": "3a993c9d-844f-42df-aafe-46492d07a61c",
   "metadata": {},
   "outputs": [
    {
     "data": {
      "text/plain": [
       "'Dat'"
      ]
     },
     "execution_count": 4,
     "metadata": {},
     "output_type": "execute_result"
    }
   ],
   "source": [
    "string=\"DataScience\"\n",
    "string[0:3]"
   ]
  },
  {
   "cell_type": "code",
   "execution_count": 6,
   "id": "a5f59072-2925-43f1-a2e1-d4f710492786",
   "metadata": {},
   "outputs": [
    {
     "name": "stdout",
     "output_type": "stream",
     "text": [
      "Dat\n"
     ]
    }
   ],
   "source": [
    "print(\"DataScience\"[:3])"
   ]
  },
  {
   "cell_type": "markdown",
   "id": "48162f2a-00fb-4217-9dfe-0b70765a4203",
   "metadata": {},
   "source": [
    "##### Write a Python code to check if the word \"learn\" is in the sentence \"Let's all learn Python!\"."
   ]
  },
  {
   "cell_type": "code",
   "execution_count": 3,
   "id": "b3d12197-d986-4c9e-8187-5753fc08ee6e",
   "metadata": {},
   "outputs": [
    {
     "name": "stdout",
     "output_type": "stream",
     "text": [
      "True\n"
     ]
    }
   ],
   "source": [
    "learning=\"Let's all learn Python\"\n",
    "print(\"learn\" in learning)"
   ]
  },
  {
   "cell_type": "markdown",
   "id": "0cda0844-65a6-4c87-b20c-4084ef46f8fe",
   "metadata": {},
   "source": [
    "##### Convert the string \"hello world\" to uppercase."
   ]
  },
  {
   "cell_type": "code",
   "execution_count": 8,
   "id": "9ea0e329-e642-4fe1-b154-94eae3cfbaae",
   "metadata": {},
   "outputs": [
    {
     "data": {
      "text/plain": [
       "'HELLO WORLD'"
      ]
     },
     "execution_count": 8,
     "metadata": {},
     "output_type": "execute_result"
    }
   ],
   "source": [
    "b=\"hello world\"\n",
    "b.upper()"
   ]
  },
  {
   "cell_type": "markdown",
   "id": "3de025d9-6fb0-4355-9c11-f7a379d0df15",
   "metadata": {},
   "source": [
    "##### Concatenate two strings: \"Data\" and \"Analysis\"."
   ]
  },
  {
   "cell_type": "code",
   "execution_count": 9,
   "id": "b7f9ad04-0c58-464a-a230-9a3925c999b1",
   "metadata": {},
   "outputs": [
    {
     "data": {
      "text/plain": [
       "'Data Analysis'"
      ]
     },
     "execution_count": 9,
     "metadata": {},
     "output_type": "execute_result"
    }
   ],
   "source": [
    "a = \"Data\"\n",
    "b = \"Analysis\"\n",
    "c = a+\" \"+b\n",
    "c"
   ]
  },
  {
   "cell_type": "markdown",
   "id": "5ea25af6-938e-4436-8c49-7d2a0b2aab3f",
   "metadata": {},
   "source": [
    "##### Replace all occurrences of \"a\" with \"@\" in the string \"DataAnalytics\"."
   ]
  },
  {
   "cell_type": "code",
   "execution_count": 10,
   "id": "57a84b54-dd6c-41ce-b64b-45d94e954154",
   "metadata": {},
   "outputs": [
    {
     "data": {
      "text/plain": [
       "'D@t@ An@lytics'"
      ]
     },
     "execution_count": 10,
     "metadata": {},
     "output_type": "execute_result"
    }
   ],
   "source": [
    "topic = \"Data Analytics\"\n",
    "topic.replace('a','@')"
   ]
  },
  {
   "cell_type": "markdown",
   "id": "4550bea5-57e6-4f51-bff3-96a25b0938f2",
   "metadata": {},
   "source": [
    "##### Write a Python code to reverse the string \"Python\"."
   ]
  },
  {
   "cell_type": "code",
   "execution_count": 11,
   "id": "2b32891c-8e95-4870-9f59-87bf546edb4d",
   "metadata": {},
   "outputs": [
    {
     "data": {
      "text/plain": [
       "'nohtyP'"
      ]
     },
     "execution_count": 11,
     "metadata": {},
     "output_type": "execute_result"
    }
   ],
   "source": [
    "str1 = \"Python\"\n",
    "str1[::-1]"
   ]
  },
  {
   "cell_type": "markdown",
   "id": "c6ef6b1e-0d44-4043-b11e-3f3aea635756",
   "metadata": {},
   "source": [
    "##### Count how many times the letter \"e\" appears in the string \"Experience\"."
   ]
  },
  {
   "cell_type": "code",
   "execution_count": 12,
   "id": "27bac739-8a50-4f45-80b8-418229810961",
   "metadata": {},
   "outputs": [
    {
     "data": {
      "text/plain": [
       "3"
      ]
     },
     "execution_count": 12,
     "metadata": {},
     "output_type": "execute_result"
    }
   ],
   "source": [
    "str4=\"Experience\"\n",
    "str4.count(\"e\")"
   ]
  },
  {
   "cell_type": "markdown",
   "id": "0b0daeb1-e0e3-4e66-ad34-73e8e5ed50ac",
   "metadata": {},
   "source": [
    "##### Split the string \"Learn,Analyze,Build\" into a list of words."
   ]
  },
  {
   "cell_type": "code",
   "execution_count": 13,
   "id": "ef9e5fd8-fcfa-4e5e-a0bb-178202d4e885",
   "metadata": {},
   "outputs": [
    {
     "data": {
      "text/plain": [
       "['Learn,Analyze,Build']"
      ]
     },
     "execution_count": 13,
     "metadata": {},
     "output_type": "execute_result"
    }
   ],
   "source": [
    "str1=\"Learn,Analyze,Build\"\n",
    "str1.split()"
   ]
  },
  {
   "cell_type": "code",
   "execution_count": 14,
   "id": "3c30a302-658c-46bd-83d8-70eee9df644c",
   "metadata": {},
   "outputs": [
    {
     "data": {
      "text/plain": [
       "['Learn', 'Analyze', 'Build']"
      ]
     },
     "execution_count": 14,
     "metadata": {},
     "output_type": "execute_result"
    }
   ],
   "source": [
    "c= 'Learn,Analyze,Build'\n",
    "c.split(',')"
   ]
  },
  {
   "cell_type": "code",
   "execution_count": null,
   "id": "591ed15e-0f09-4ce6-b7ec-26e60d437b4a",
   "metadata": {},
   "outputs": [],
   "source": []
  }
 ],
 "metadata": {
  "kernelspec": {
   "display_name": "Python 3 (ipykernel)",
   "language": "python",
   "name": "python3"
  },
  "language_info": {
   "codemirror_mode": {
    "name": "ipython",
    "version": 3
   },
   "file_extension": ".py",
   "mimetype": "text/x-python",
   "name": "python",
   "nbconvert_exporter": "python",
   "pygments_lexer": "ipython3",
   "version": "3.11.7"
  }
 },
 "nbformat": 4,
 "nbformat_minor": 5
}
