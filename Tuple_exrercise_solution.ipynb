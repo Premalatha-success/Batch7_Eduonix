{
 "cells": [
  {
   "cell_type": "markdown",
   "id": "84dd9a7a-0128-4626-872e-9687d44e61d0",
   "metadata": {},
   "source": [
    "1.\tCreate a tuple with three colors: \"red\", \"green\", and \"blue\"."
   ]
  },
  {
   "cell_type": "code",
   "execution_count": 1,
   "id": "6e2db36e-f005-4dc2-afc1-e333a46d641a",
   "metadata": {},
   "outputs": [
    {
     "name": "stdout",
     "output_type": "stream",
     "text": [
      "('red', 'green', 'blue')\n"
     ]
    },
    {
     "data": {
      "text/plain": [
       "tuple"
      ]
     },
     "execution_count": 1,
     "metadata": {},
     "output_type": "execute_result"
    }
   ],
   "source": [
    "t=\"red\",\"green\",\"blue\"\n",
    "print(t)\n",
    "type(t)"
   ]
  },
  {
   "cell_type": "markdown",
   "id": "9ae5e547-b17f-4019-8634-459727a82e77",
   "metadata": {},
   "source": [
    "2.\tHow would you access the second element in the tuple (1, 2, 3)?"
   ]
  },
  {
   "cell_type": "code",
   "execution_count": 2,
   "id": "71950ff6-9b08-4880-ac50-ee098f9f8907",
   "metadata": {},
   "outputs": [
    {
     "data": {
      "text/plain": [
       "2"
      ]
     },
     "execution_count": 2,
     "metadata": {},
     "output_type": "execute_result"
    }
   ],
   "source": [
    "samp_tuple=(1, 2, 3)\n",
    "samp_tuple[1]"
   ]
  },
  {
   "cell_type": "markdown",
   "id": "7b076854-75b2-4858-92bc-14bc78c2d34c",
   "metadata": {},
   "source": [
    "3.\tCan you change the value of an element in a tuple? Explain."
   ]
  },
  {
   "cell_type": "code",
   "execution_count": 3,
   "id": "d1bc63a5-cc35-4b6e-b625-c6d66af7a1bd",
   "metadata": {},
   "outputs": [
    {
     "ename": "TypeError",
     "evalue": "'tuple' object does not support item assignment",
     "output_type": "error",
     "traceback": [
      "\u001b[1;31m---------------------------------------------------------------------------\u001b[0m",
      "\u001b[1;31mTypeError\u001b[0m                                 Traceback (most recent call last)",
      "Cell \u001b[1;32mIn[3], line 1\u001b[0m\n\u001b[1;32m----> 1\u001b[0m samp_tuple[\u001b[38;5;241m1\u001b[39m]\u001b[38;5;241m=\u001b[39m\u001b[38;5;241m10\u001b[39m\n",
      "\u001b[1;31mTypeError\u001b[0m: 'tuple' object does not support item assignment"
     ]
    }
   ],
   "source": [
    "samp_tuple[1]=10 \n",
    "\n",
    "#### Tuple is immutable"
   ]
  },
  {
   "cell_type": "markdown",
   "id": "1718d180-0701-4542-8b29-ae9058693628",
   "metadata": {},
   "source": [
    "4.\tWrite a Python code to find the length of the tuple (\"a\", \"b\", \"c\", \"d\", \"e\")."
   ]
  },
  {
   "cell_type": "code",
   "execution_count": 4,
   "id": "75d7e8e3-f5a6-4a56-857c-0aa391498b0b",
   "metadata": {},
   "outputs": [
    {
     "data": {
      "text/plain": [
       "5"
      ]
     },
     "execution_count": 4,
     "metadata": {},
     "output_type": "execute_result"
    }
   ],
   "source": [
    "c=(\"a\", \"b\", \"c\", \"d\", \"e\")\n",
    "len(c)"
   ]
  },
  {
   "cell_type": "markdown",
   "id": "3582b751-c602-48fa-a20b-d52c29d3b89f",
   "metadata": {},
   "source": [
    "5.\tConvert the tuple (1, 2, 3) into a list."
   ]
  },
  {
   "cell_type": "code",
   "execution_count": 10,
   "id": "84d8d6f4-2a77-42fc-bfc0-7d7cdcc32e35",
   "metadata": {},
   "outputs": [
    {
     "data": {
      "text/plain": [
       "[1, 2, 3]"
      ]
     },
     "execution_count": 10,
     "metadata": {},
     "output_type": "execute_result"
    }
   ],
   "source": [
    "t4=(1, 2, 3) \n",
    "l=list(t4)\n",
    "l\n",
    "###type(l)"
   ]
  },
  {
   "cell_type": "code",
   "execution_count": 8,
   "id": "b629cf4b-7272-47a3-acb2-bd77733d7187",
   "metadata": {},
   "outputs": [
    {
     "data": {
      "text/plain": [
       "[(1, 2, 3)]"
      ]
     },
     "execution_count": 8,
     "metadata": {},
     "output_type": "execute_result"
    }
   ],
   "source": [
    "d=(1, 2, 3) \n",
    "e=[d]\n",
    "e\n",
    "##type(e)"
   ]
  },
  {
   "cell_type": "markdown",
   "id": "3cdb3494-3cc9-4ce0-8023-3705d8b2dd4e",
   "metadata": {},
   "source": [
    "6.\tHow would you concatenate the tuples (1, 2) and (3, 4)?\n"
   ]
  },
  {
   "cell_type": "code",
   "execution_count": 11,
   "id": "01aa87e4-6658-4c7b-ba87-5ca2066d55d8",
   "metadata": {},
   "outputs": [
    {
     "data": {
      "text/plain": [
       "(1, 2, 3, 4)"
      ]
     },
     "execution_count": 11,
     "metadata": {},
     "output_type": "execute_result"
    }
   ],
   "source": [
    "MyTp3 = (1,2)\n",
    "MyTp4 = (3,4)\n",
    "MyTp5 = MyTp3 + MyTp4\n",
    "MyTp5"
   ]
  },
  {
   "cell_type": "markdown",
   "id": "5a97aa1d-5c7f-4c82-8f28-52dbc40e87e4",
   "metadata": {},
   "source": [
    "7.\tCheck if the value \"apple\" exists in the tuple (\"orange\", \"apple\", \"banana\").\n"
   ]
  },
  {
   "cell_type": "code",
   "execution_count": 12,
   "id": "0f6cd070-91a0-4d7f-9997-20a7b7f32341",
   "metadata": {},
   "outputs": [
    {
     "name": "stdout",
     "output_type": "stream",
     "text": [
      "True\n"
     ]
    }
   ],
   "source": [
    "tup=(\"orange\",\"apple\",\"banana\")\n",
    "print(\"apple\" in tup)"
   ]
  },
  {
   "cell_type": "markdown",
   "id": "32741b3d-0e72-4f41-afb3-e77dd535202a",
   "metadata": {},
   "source": [
    "8.\tWrite a Python code to get the last item of the tuple (100, 200, 300, 400).\n",
    "\n"
   ]
  },
  {
   "cell_type": "code",
   "execution_count": 13,
   "id": "0f32402c-3b55-4b00-a357-013f1589b38e",
   "metadata": {},
   "outputs": [
    {
     "data": {
      "text/plain": [
       "400"
      ]
     },
     "execution_count": 13,
     "metadata": {},
     "output_type": "execute_result"
    }
   ],
   "source": [
    "l=(100, 200, 300, 400)\n",
    "l[-1]"
   ]
  },
  {
   "cell_type": "markdown",
   "id": "f47ba2a6-74dd-4c84-8209-ca0531430aaf",
   "metadata": {},
   "source": [
    "9.\tUse tuple unpacking to assign the values (10, 20, 30) to three variables.\n"
   ]
  },
  {
   "cell_type": "code",
   "execution_count": 16,
   "id": "1b627b5b-8d64-4a3d-907d-54304b8c44c4",
   "metadata": {},
   "outputs": [
    {
     "name": "stdout",
     "output_type": "stream",
     "text": [
      "10\n",
      "20\n",
      "30\n"
     ]
    }
   ],
   "source": [
    "t=(10, 20, 30) \n",
    "(a, b, c) = t\n",
    "print(a)\n",
    "print(b)\n",
    "print(c)"
   ]
  },
  {
   "cell_type": "markdown",
   "id": "87c6409f-097e-4cbe-bb75-77632daf5941",
   "metadata": {},
   "source": [
    "10.\tHow would you convert a list [5, 10, 15] into a tuple?"
   ]
  },
  {
   "cell_type": "code",
   "execution_count": 14,
   "id": "26ab0c78-ccc4-4667-8304-235a3e93cf59",
   "metadata": {},
   "outputs": [
    {
     "data": {
      "text/plain": [
       "(5, 10, 15)"
      ]
     },
     "execution_count": 14,
     "metadata": {},
     "output_type": "execute_result"
    }
   ],
   "source": [
    "a=[5, 10, 15]\n",
    "b=tuple(a)\n",
    "b"
   ]
  },
  {
   "cell_type": "code",
   "execution_count": 15,
   "id": "e6401cb7-6483-4a61-a2c9-d210f91d7746",
   "metadata": {},
   "outputs": [
    {
     "data": {
      "text/plain": [
       "tuple"
      ]
     },
     "execution_count": 15,
     "metadata": {},
     "output_type": "execute_result"
    }
   ],
   "source": [
    "type(b)"
   ]
  },
  {
   "cell_type": "code",
   "execution_count": null,
   "id": "c4b1d6f8-c27b-46c2-ab17-ffdeece24827",
   "metadata": {},
   "outputs": [],
   "source": []
  }
 ],
 "metadata": {
  "kernelspec": {
   "display_name": "Python 3 (ipykernel)",
   "language": "python",
   "name": "python3"
  },
  "language_info": {
   "codemirror_mode": {
    "name": "ipython",
    "version": 3
   },
   "file_extension": ".py",
   "mimetype": "text/x-python",
   "name": "python",
   "nbconvert_exporter": "python",
   "pygments_lexer": "ipython3",
   "version": "3.11.7"
  }
 },
 "nbformat": 4,
 "nbformat_minor": 5
}
