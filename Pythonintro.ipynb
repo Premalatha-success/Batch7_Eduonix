{
 "cells": [
  {
   "cell_type": "code",
   "execution_count": 53,
   "id": "baaf6e46-6e31-4e49-ac20-df3431298799",
   "metadata": {},
   "outputs": [
    {
     "name": "stdout",
     "output_type": "stream",
     "text": [
      "Hello World\n"
     ]
    }
   ],
   "source": [
    "print(\"Hello World\")"
   ]
  },
  {
   "cell_type": "code",
   "execution_count": 54,
   "id": "869ba0c8-c5cf-4014-b35a-4bb9f6f697eb",
   "metadata": {},
   "outputs": [
    {
     "name": "stdout",
     "output_type": "stream",
     "text": [
      "Latha\n"
     ]
    }
   ],
   "source": [
    "print(\"Latha\")"
   ]
  },
  {
   "cell_type": "code",
   "execution_count": 55,
   "id": "a0e96f8e-f542-4f54-ae57-44a443b269b7",
   "metadata": {},
   "outputs": [
    {
     "ename": "NameError",
     "evalue": "name 'Print' is not defined",
     "output_type": "error",
     "traceback": [
      "\u001b[1;31m---------------------------------------------------------------------------\u001b[0m",
      "\u001b[1;31mNameError\u001b[0m                                 Traceback (most recent call last)",
      "Cell \u001b[1;32mIn[55], line 1\u001b[0m\n\u001b[1;32m----> 1\u001b[0m Print(\u001b[38;5;124m\"\u001b[39m\u001b[38;5;124mLatha\u001b[39m\u001b[38;5;124m\"\u001b[39m)\n",
      "\u001b[1;31mNameError\u001b[0m: name 'Print' is not defined"
     ]
    }
   ],
   "source": [
    "Print(\"Latha\")"
   ]
  },
  {
   "cell_type": "code",
   "execution_count": 61,
   "id": "17ab2bad-72f1-4884-b680-8ad1e7ae61b8",
   "metadata": {},
   "outputs": [
    {
     "name": "stdout",
     "output_type": "stream",
     "text": [
      "10\n"
     ]
    }
   ],
   "source": [
    "print(10)"
   ]
  },
  {
   "cell_type": "code",
   "execution_count": 62,
   "id": "a9438d93-d0e7-4367-be5b-8a62c8cd1d7c",
   "metadata": {},
   "outputs": [
    {
     "name": "stdout",
     "output_type": "stream",
     "text": [
      "1.5\n"
     ]
    }
   ],
   "source": [
    "print(1.5)"
   ]
  },
  {
   "cell_type": "code",
   "execution_count": 63,
   "id": "80946c18-e05d-41c1-ad4d-8d5f36c56f18",
   "metadata": {},
   "outputs": [
    {
     "ename": "NameError",
     "evalue": "name 'latha' is not defined",
     "output_type": "error",
     "traceback": [
      "\u001b[1;31m---------------------------------------------------------------------------\u001b[0m",
      "\u001b[1;31mNameError\u001b[0m                                 Traceback (most recent call last)",
      "Cell \u001b[1;32mIn[63], line 1\u001b[0m\n\u001b[1;32m----> 1\u001b[0m \u001b[38;5;28mprint\u001b[39m(latha)\n",
      "\u001b[1;31mNameError\u001b[0m: name 'latha' is not defined"
     ]
    }
   ],
   "source": [
    "print(latha)"
   ]
  },
  {
   "cell_type": "code",
   "execution_count": 64,
   "id": "c1045bff-b16b-4db2-9def-fe562599cf85",
   "metadata": {},
   "outputs": [
    {
     "name": "stdout",
     "output_type": "stream",
     "text": [
      "latha\n"
     ]
    }
   ],
   "source": [
    "print('latha')"
   ]
  },
  {
   "cell_type": "code",
   "execution_count": 65,
   "id": "1d32974a-d6b6-4ea0-8132-91e0d3412dc8",
   "metadata": {},
   "outputs": [
    {
     "name": "stdout",
     "output_type": "stream",
     "text": [
      "latha\n"
     ]
    }
   ],
   "source": [
    "print(\"latha\")"
   ]
  },
  {
   "cell_type": "code",
   "execution_count": 66,
   "id": "54ff722c-5cb7-470e-9e84-45db7ce1b7af",
   "metadata": {},
   "outputs": [
    {
     "ename": "SyntaxError",
     "evalue": "unterminated string literal (detected at line 1) (3698523581.py, line 1)",
     "output_type": "error",
     "traceback": [
      "\u001b[1;36m  Cell \u001b[1;32mIn[66], line 1\u001b[1;36m\u001b[0m\n\u001b[1;33m    print(\"latha')\u001b[0m\n\u001b[1;37m          ^\u001b[0m\n\u001b[1;31mSyntaxError\u001b[0m\u001b[1;31m:\u001b[0m unterminated string literal (detected at line 1)\n"
     ]
    }
   ],
   "source": [
    "print(\"latha')"
   ]
  },
  {
   "cell_type": "code",
   "execution_count": 67,
   "id": "ddfd3157-b0f5-4f90-842b-7b0694360326",
   "metadata": {},
   "outputs": [
    {
     "data": {
      "text/plain": [
       "5"
      ]
     },
     "execution_count": 67,
     "metadata": {},
     "output_type": "execute_result"
    }
   ],
   "source": [
    "x=5\n",
    "x"
   ]
  },
  {
   "cell_type": "code",
   "execution_count": 68,
   "id": "8577e13e-f3e8-4059-9f29-8e26ec7d6206",
   "metadata": {},
   "outputs": [
    {
     "data": {
      "text/plain": [
       "int"
      ]
     },
     "execution_count": 68,
     "metadata": {},
     "output_type": "execute_result"
    }
   ],
   "source": [
    "type(x)"
   ]
  },
  {
   "cell_type": "code",
   "execution_count": 69,
   "id": "c358562e-5102-49f8-8ab5-c13be6824cd1",
   "metadata": {},
   "outputs": [
    {
     "data": {
      "text/plain": [
       "float"
      ]
     },
     "execution_count": 69,
     "metadata": {},
     "output_type": "execute_result"
    }
   ],
   "source": [
    "x=10.8\n",
    "type(x)"
   ]
  },
  {
   "cell_type": "code",
   "execution_count": 70,
   "id": "d30d021f-80e3-4351-b20a-61c658e1931d",
   "metadata": {},
   "outputs": [
    {
     "data": {
      "text/plain": [
       "str"
      ]
     },
     "execution_count": 70,
     "metadata": {},
     "output_type": "execute_result"
    }
   ],
   "source": [
    "name=\"Latha\"\n",
    "type(name)"
   ]
  },
  {
   "cell_type": "code",
   "execution_count": 71,
   "id": "c5952c64-35b0-428a-9e4f-f9b414126ead",
   "metadata": {},
   "outputs": [
    {
     "data": {
      "text/plain": [
       "bool"
      ]
     },
     "execution_count": 71,
     "metadata": {},
     "output_type": "execute_result"
    }
   ],
   "source": [
    "z=True\n",
    "type(z)"
   ]
  },
  {
   "cell_type": "code",
   "execution_count": 72,
   "id": "d606d21e-3798-4161-9daa-f8b0f9df9aaa",
   "metadata": {},
   "outputs": [
    {
     "data": {
      "text/plain": [
       "['Python', 'R']"
      ]
     },
     "execution_count": 72,
     "metadata": {},
     "output_type": "execute_result"
    }
   ],
   "source": [
    "### variables\n",
    "booknames=[\"Python\",\"R\"]\n",
    "booknames"
   ]
  },
  {
   "cell_type": "code",
   "execution_count": 73,
   "id": "8aa97861-32b8-45e0-b1b2-b0edbd6c2161",
   "metadata": {},
   "outputs": [
    {
     "ename": "SyntaxError",
     "evalue": "invalid syntax (3379710203.py, line 1)",
     "output_type": "error",
     "traceback": [
      "\u001b[1;36m  Cell \u001b[1;32mIn[73], line 1\u001b[1;36m\u001b[0m\n\u001b[1;33m    book names=[\"Python\",\"R\"]  ## Space is not allowed\u001b[0m\n\u001b[1;37m         ^\u001b[0m\n\u001b[1;31mSyntaxError\u001b[0m\u001b[1;31m:\u001b[0m invalid syntax\n"
     ]
    }
   ],
   "source": [
    "book names=[\"Python\",\"R\"]  ## Space is not allowed\n",
    "book names"
   ]
  },
  {
   "cell_type": "code",
   "execution_count": 74,
   "id": "031cbee6-3bf0-4b0b-bf3d-9e9b170b1818",
   "metadata": {},
   "outputs": [
    {
     "ename": "SyntaxError",
     "evalue": "invalid decimal literal (2982992782.py, line 1)",
     "output_type": "error",
     "traceback": [
      "\u001b[1;36m  Cell \u001b[1;32mIn[74], line 1\u001b[1;36m\u001b[0m\n\u001b[1;33m    2booknames=[\"Python\",\"R\"]  ## variable names should not start with a number\u001b[0m\n\u001b[1;37m    ^\u001b[0m\n\u001b[1;31mSyntaxError\u001b[0m\u001b[1;31m:\u001b[0m invalid decimal literal\n"
     ]
    }
   ],
   "source": [
    "2booknames=[\"Python\",\"R\"]  ## variable names should not start with a number\n",
    "2booknames"
   ]
  },
  {
   "cell_type": "code",
   "execution_count": 75,
   "id": "34835458-fed8-4020-bb5a-4e5b49f53ea0",
   "metadata": {},
   "outputs": [
    {
     "data": {
      "text/plain": [
       "['Python', 'R']"
      ]
     },
     "execution_count": 75,
     "metadata": {},
     "output_type": "execute_result"
    }
   ],
   "source": [
    "b2ooknames=[\"Python\",\"R\"]\n",
    "b2ooknames"
   ]
  },
  {
   "cell_type": "code",
   "execution_count": 76,
   "id": "4381f880-3831-49c6-a4d4-0a0aab3968f8",
   "metadata": {},
   "outputs": [
    {
     "ename": "SyntaxError",
     "evalue": "cannot assign to expression here. Maybe you meant '==' instead of '='? (464433669.py, line 1)",
     "output_type": "error",
     "traceback": [
      "\u001b[1;36m  Cell \u001b[1;32mIn[76], line 1\u001b[1;36m\u001b[0m\n\u001b[1;33m    book+names=[\"Python\",\"R\"]\u001b[0m\n\u001b[1;37m    ^\u001b[0m\n\u001b[1;31mSyntaxError\u001b[0m\u001b[1;31m:\u001b[0m cannot assign to expression here. Maybe you meant '==' instead of '='?\n"
     ]
    }
   ],
   "source": [
    "book+names=[\"Python\",\"R\"]\n",
    "book+names"
   ]
  },
  {
   "cell_type": "code",
   "execution_count": 77,
   "id": "ca66f57a-80fb-401f-9075-b3bceb633833",
   "metadata": {},
   "outputs": [
    {
     "data": {
      "text/plain": [
       "['Python', 'R']"
      ]
     },
     "execution_count": 77,
     "metadata": {},
     "output_type": "execute_result"
    }
   ],
   "source": [
    "book_names=[\"Python\",\"R\"]\n",
    "book_names"
   ]
  },
  {
   "cell_type": "code",
   "execution_count": 78,
   "id": "16989471-93c0-4e99-867c-6dccc0403f1c",
   "metadata": {},
   "outputs": [
    {
     "data": {
      "text/plain": [
       "['Python', 'R']"
      ]
     },
     "execution_count": 78,
     "metadata": {},
     "output_type": "execute_result"
    }
   ],
   "source": [
    "_booknames=[\"Python\",\"R\"]\n",
    "_booknames"
   ]
  },
  {
   "cell_type": "markdown",
   "id": "72820525-bc49-4a26-937e-c3c65456fb04",
   "metadata": {},
   "source": [
    "##### Variable names should start with A-Z or a-z or _\n",
    "##### Space is not allowed\n",
    "##### it should not start with a number\n",
    "##### The only allowed spl char is underscore"
   ]
  },
  {
   "cell_type": "markdown",
   "id": "ffb52ac7-5b45-4734-8ce9-85e66cd33c76",
   "metadata": {},
   "source": [
    "### Data Stuctures"
   ]
  },
  {
   "cell_type": "markdown",
   "id": "2f1e8cd7-32a6-4efa-9606-ee41fcba965f",
   "metadata": {},
   "source": [
    "#### List"
   ]
  },
  {
   "cell_type": "code",
   "execution_count": 79,
   "id": "8b5f2858-ecf2-4739-8fbe-abf7b4fbfb0c",
   "metadata": {},
   "outputs": [
    {
     "data": {
      "text/plain": [
       "[1, 2, 3, 4, 5, 'Python', True, 10.5, 21.3]"
      ]
     },
     "execution_count": 79,
     "metadata": {},
     "output_type": "execute_result"
    }
   ],
   "source": [
    "a=[1,2,3,4,5,\"Python\",True,10.5,21.3]\n",
    "a"
   ]
  },
  {
   "cell_type": "code",
   "execution_count": 80,
   "id": "a34250e9-4130-4c8b-84c3-90bd6afa86a1",
   "metadata": {},
   "outputs": [
    {
     "data": {
      "text/plain": [
       "list"
      ]
     },
     "execution_count": 80,
     "metadata": {},
     "output_type": "execute_result"
    }
   ],
   "source": [
    "type(a)"
   ]
  },
  {
   "cell_type": "code",
   "execution_count": 81,
   "id": "50e68d88-eea5-4b58-8554-1959f82b2893",
   "metadata": {},
   "outputs": [
    {
     "data": {
      "text/plain": [
       "1"
      ]
     },
     "execution_count": 81,
     "metadata": {},
     "output_type": "execute_result"
    }
   ],
   "source": [
    "a[0]   ### [0]->indexing"
   ]
  },
  {
   "cell_type": "code",
   "execution_count": 82,
   "id": "51c12160-494c-4098-b5b7-cccc7b65e738",
   "metadata": {},
   "outputs": [
    {
     "data": {
      "text/plain": [
       "5"
      ]
     },
     "execution_count": 82,
     "metadata": {},
     "output_type": "execute_result"
    }
   ],
   "source": [
    "a[4]"
   ]
  },
  {
   "cell_type": "code",
   "execution_count": 83,
   "id": "8ef40f8f-36a0-4752-a0dc-26750f2c42e3",
   "metadata": {},
   "outputs": [
    {
     "data": {
      "text/plain": [
       "21.3"
      ]
     },
     "execution_count": 83,
     "metadata": {},
     "output_type": "execute_result"
    }
   ],
   "source": [
    "a[8]"
   ]
  },
  {
   "cell_type": "code",
   "execution_count": 84,
   "id": "c49aec2d-a59f-4710-9aa4-6c6472cc8b2f",
   "metadata": {},
   "outputs": [
    {
     "data": {
      "text/plain": [
       "21.3"
      ]
     },
     "execution_count": 84,
     "metadata": {},
     "output_type": "execute_result"
    }
   ],
   "source": [
    "a[-1]"
   ]
  },
  {
   "cell_type": "code",
   "execution_count": 85,
   "id": "b5393322-b465-4c2d-871b-a35008271686",
   "metadata": {},
   "outputs": [
    {
     "data": {
      "text/plain": [
       "[1, 2]"
      ]
     },
     "execution_count": 85,
     "metadata": {},
     "output_type": "execute_result"
    }
   ],
   "source": [
    "a[0:2]  ##[0:2]->slicing"
   ]
  },
  {
   "cell_type": "code",
   "execution_count": 86,
   "id": "1f4e974d-176e-4d16-a029-5b1cad99f9cf",
   "metadata": {},
   "outputs": [
    {
     "data": {
      "text/plain": [
       "['Python', True, 10.5]"
      ]
     },
     "execution_count": 86,
     "metadata": {},
     "output_type": "execute_result"
    }
   ],
   "source": [
    "a[5:8]"
   ]
  },
  {
   "cell_type": "code",
   "execution_count": 87,
   "id": "d416df3d-3043-43fe-bb57-3302a9758c73",
   "metadata": {},
   "outputs": [],
   "source": [
    "a[0]=100"
   ]
  },
  {
   "cell_type": "code",
   "execution_count": 88,
   "id": "c61283fd-c409-4745-b3ec-a73b9bc11232",
   "metadata": {},
   "outputs": [
    {
     "data": {
      "text/plain": [
       "[100, 2, 3, 4, 5, 'Python', True, 10.5, 21.3]"
      ]
     },
     "execution_count": 88,
     "metadata": {},
     "output_type": "execute_result"
    }
   ],
   "source": [
    "a"
   ]
  },
  {
   "cell_type": "markdown",
   "id": "7072f9e2-3536-458b-9290-7a5324678c8e",
   "metadata": {},
   "source": [
    "### List has elements seperated by commas\n",
    "### Heterogenous->different data types like int,float,bool and string\n",
    "### Square brackets\n",
    "### The element can be retrieved using index\n",
    "### Mutable->once the list is created we can change the elements"
   ]
  },
  {
   "cell_type": "code",
   "execution_count": 89,
   "id": "0f9c92c3-2df1-4793-9b15-1c9991d6815f",
   "metadata": {},
   "outputs": [
    {
     "data": {
      "text/plain": [
       "(1, 2, 3, 4, 5, 'Python', True, 10.5, 21.3)"
      ]
     },
     "execution_count": 89,
     "metadata": {},
     "output_type": "execute_result"
    }
   ],
   "source": [
    "a=(1,2,3,4,5,\"Python\",True,10.5,21.3)\n",
    "a"
   ]
  },
  {
   "cell_type": "code",
   "execution_count": 90,
   "id": "ec76f387-68ef-4477-93ab-53d30be8a704",
   "metadata": {},
   "outputs": [
    {
     "data": {
      "text/plain": [
       "tuple"
      ]
     },
     "execution_count": 90,
     "metadata": {},
     "output_type": "execute_result"
    }
   ],
   "source": [
    "type(a)"
   ]
  },
  {
   "cell_type": "code",
   "execution_count": 91,
   "id": "a03905ac-b366-49be-9dc0-236cf8c6dde5",
   "metadata": {},
   "outputs": [
    {
     "data": {
      "text/plain": [
       "1"
      ]
     },
     "execution_count": 91,
     "metadata": {},
     "output_type": "execute_result"
    }
   ],
   "source": [
    "a[0]"
   ]
  },
  {
   "cell_type": "code",
   "execution_count": 92,
   "id": "42de62a9-de79-4bb4-a28a-7032d94f3980",
   "metadata": {},
   "outputs": [
    {
     "data": {
      "text/plain": [
       "(1, 2, 3, 4, 5, 'Python')"
      ]
     },
     "execution_count": 92,
     "metadata": {},
     "output_type": "execute_result"
    }
   ],
   "source": [
    "a[0:6]"
   ]
  },
  {
   "cell_type": "code",
   "execution_count": 93,
   "id": "6b442aaa-aeea-4f08-9daf-60ec7b882831",
   "metadata": {},
   "outputs": [
    {
     "ename": "TypeError",
     "evalue": "'tuple' object does not support item assignment",
     "output_type": "error",
     "traceback": [
      "\u001b[1;31m---------------------------------------------------------------------------\u001b[0m",
      "\u001b[1;31mTypeError\u001b[0m                                 Traceback (most recent call last)",
      "Cell \u001b[1;32mIn[93], line 1\u001b[0m\n\u001b[1;32m----> 1\u001b[0m a[\u001b[38;5;241m0\u001b[39m]\u001b[38;5;241m=\u001b[39m\u001b[38;5;241m100\u001b[39m\n",
      "\u001b[1;31mTypeError\u001b[0m: 'tuple' object does not support item assignment"
     ]
    }
   ],
   "source": [
    "a[0]=100"
   ]
  },
  {
   "cell_type": "markdown",
   "id": "2e497674-8f52-4ba7-8e46-0fbe510b632f",
   "metadata": {},
   "source": [
    "#### In tuple,the elements are seperated by comma and it is enclosed with ()\n",
    "#### Elements can be retrieved using index\n",
    "#### Immutable->once the tuple is created we cannot change the elements"
   ]
  },
  {
   "cell_type": "markdown",
   "id": "4fcc31fc-4fd5-431c-ad94-d65a307e4a13",
   "metadata": {},
   "source": [
    "### Dictionary"
   ]
  },
  {
   "cell_type": "code",
   "execution_count": 94,
   "id": "69a0d9e7-1527-45e4-baa2-34dcf42cfa87",
   "metadata": {},
   "outputs": [
    {
     "data": {
      "text/plain": [
       "{1: 'apple', 2: 'Python', 'oranges': 3, 'apple': 7}"
      ]
     },
     "execution_count": 94,
     "metadata": {},
     "output_type": "execute_result"
    }
   ],
   "source": [
    "b={1:\"apple\",2:\"banana\",\"oranges\":3,2:\"latha\",\"apple\":7,2:\"Python\"}\n",
    "b"
   ]
  },
  {
   "cell_type": "code",
   "execution_count": 95,
   "id": "2ec4e980-b247-4966-9c61-0d3bceb64293",
   "metadata": {},
   "outputs": [
    {
     "data": {
      "text/plain": [
       "{1: 'apple', 2: 'latha', 'oranges': 3, 'apple': 7, 6: 'apple'}"
      ]
     },
     "execution_count": 95,
     "metadata": {},
     "output_type": "execute_result"
    }
   ],
   "source": [
    "c={1:\"apple\",2:\"banana\",\"oranges\":3,2:\"latha\",\"apple\":7,6:\"apple\"}\n",
    "c"
   ]
  },
  {
   "cell_type": "code",
   "execution_count": 96,
   "id": "99c98d07-9be1-4b63-90fd-a6d7d72c0a3c",
   "metadata": {},
   "outputs": [
    {
     "data": {
      "text/plain": [
       "'Python'"
      ]
     },
     "execution_count": 96,
     "metadata": {},
     "output_type": "execute_result"
    }
   ],
   "source": [
    "b[2]"
   ]
  },
  {
   "cell_type": "code",
   "execution_count": 97,
   "id": "4a3174ad-eff9-49d6-a2f9-38857ef00187",
   "metadata": {},
   "outputs": [
    {
     "data": {
      "text/plain": [
       "'apple'"
      ]
     },
     "execution_count": 97,
     "metadata": {},
     "output_type": "execute_result"
    }
   ],
   "source": [
    "c[6]"
   ]
  },
  {
   "cell_type": "code",
   "execution_count": 98,
   "id": "88c8052e-e236-4ed9-9d2a-e5be75cff685",
   "metadata": {},
   "outputs": [
    {
     "ename": "KeyError",
     "evalue": "0",
     "output_type": "error",
     "traceback": [
      "\u001b[1;31m---------------------------------------------------------------------------\u001b[0m",
      "\u001b[1;31mKeyError\u001b[0m                                  Traceback (most recent call last)",
      "Cell \u001b[1;32mIn[98], line 1\u001b[0m\n\u001b[1;32m----> 1\u001b[0m c[\u001b[38;5;241m0\u001b[39m]\n",
      "\u001b[1;31mKeyError\u001b[0m: 0"
     ]
    }
   ],
   "source": [
    "c[0]"
   ]
  },
  {
   "cell_type": "code",
   "execution_count": 99,
   "id": "73968044-d65a-47db-8ffc-ba66ad02a186",
   "metadata": {},
   "outputs": [
    {
     "ename": "KeyError",
     "evalue": "'latha'",
     "output_type": "error",
     "traceback": [
      "\u001b[1;31m---------------------------------------------------------------------------\u001b[0m",
      "\u001b[1;31mKeyError\u001b[0m                                  Traceback (most recent call last)",
      "Cell \u001b[1;32mIn[99], line 1\u001b[0m\n\u001b[1;32m----> 1\u001b[0m c[\u001b[38;5;124m\"\u001b[39m\u001b[38;5;124mlatha\u001b[39m\u001b[38;5;124m\"\u001b[39m]\n",
      "\u001b[1;31mKeyError\u001b[0m: 'latha'"
     ]
    }
   ],
   "source": [
    "c[\"latha\"]"
   ]
  },
  {
   "cell_type": "code",
   "execution_count": 100,
   "id": "fc808dd4-f002-4801-ba65-ef029e3249e9",
   "metadata": {},
   "outputs": [],
   "source": [
    "##### Dictionary appear as Key and value pairs\n",
    "##### Before : are keys and after : are values\n",
    "##### Key is unique but values can be duplicated\n",
    "##### Values can be retrieved using Key"
   ]
  },
  {
   "cell_type": "code",
   "execution_count": null,
   "id": "7df69b44-e3f5-4faa-af95-e347c26ae97d",
   "metadata": {},
   "outputs": [],
   "source": []
  }
 ],
 "metadata": {
  "kernelspec": {
   "display_name": "Python 3 (ipykernel)",
   "language": "python",
   "name": "python3"
  },
  "language_info": {
   "codemirror_mode": {
    "name": "ipython",
    "version": 3
   },
   "file_extension": ".py",
   "mimetype": "text/x-python",
   "name": "python",
   "nbconvert_exporter": "python",
   "pygments_lexer": "ipython3",
   "version": "3.11.7"
  }
 },
 "nbformat": 4,
 "nbformat_minor": 5
}
