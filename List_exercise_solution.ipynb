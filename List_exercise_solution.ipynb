{
 "cells": [
  {
   "cell_type": "markdown",
   "id": "3292305a-eb2a-4503-9c54-ccdecb3d776e",
   "metadata": {},
   "source": [
    "1.\tCreate a list of five numbers."
   ]
  },
  {
   "cell_type": "code",
   "execution_count": 1,
   "id": "90fa5b62-6875-440e-9421-fb46f5d25c0e",
   "metadata": {},
   "outputs": [
    {
     "data": {
      "text/plain": [
       "[1, 2, 3, 4, 5]"
      ]
     },
     "execution_count": 1,
     "metadata": {},
     "output_type": "execute_result"
    }
   ],
   "source": [
    "sample_list=[1,2,3,4,5]\n",
    "sample_list"
   ]
  },
  {
   "cell_type": "markdown",
   "id": "f8529d64-45d0-4b3d-a48b-4d68f831a342",
   "metadata": {},
   "source": [
    "2.\tHow would you append the number 6 to the list [1, 2, 3, 4, 5]?"
   ]
  },
  {
   "cell_type": "code",
   "execution_count": 2,
   "id": "8d8c2017-41e9-42cf-8fea-cdc5a91600e4",
   "metadata": {},
   "outputs": [
    {
     "data": {
      "text/plain": [
       "[1, 2, 3, 4, 5, 6]"
      ]
     },
     "execution_count": 2,
     "metadata": {},
     "output_type": "execute_result"
    }
   ],
   "source": [
    "sample_list.append(6)\n",
    "sample_list"
   ]
  },
  {
   "cell_type": "markdown",
   "id": "4cf7058e-933f-41c3-9fb2-f4c59513cf23",
   "metadata": {},
   "source": [
    "3.\tHow would you access the third element in the list [\"apple\", \"banana\", \"cherry\", \"date\"]?"
   ]
  },
  {
   "cell_type": "code",
   "execution_count": 3,
   "id": "f9b61004-9c7c-45c4-b97e-97252fe9e3f0",
   "metadata": {},
   "outputs": [
    {
     "data": {
      "text/plain": [
       "'cherry'"
      ]
     },
     "execution_count": 3,
     "metadata": {},
     "output_type": "execute_result"
    }
   ],
   "source": [
    "fruit=[\"apple\", \"banana\", \"cherry\", \"date\"]\n",
    "fruit[2]"
   ]
  },
  {
   "cell_type": "markdown",
   "id": "a551d18e-1218-47af-a97b-3b5657b36e3c",
   "metadata": {},
   "source": [
    "4.\tRemove the last item from the list [10, 20, 30, 40]."
   ]
  },
  {
   "cell_type": "code",
   "execution_count": 4,
   "id": "8a3551ac-8e9f-44cb-a233-b298e428a996",
   "metadata": {},
   "outputs": [
    {
     "data": {
      "text/plain": [
       "40"
      ]
     },
     "execution_count": 4,
     "metadata": {},
     "output_type": "execute_result"
    }
   ],
   "source": [
    "list1=[10, 20, 30, 40]\n",
    "list1.pop()"
   ]
  },
  {
   "cell_type": "code",
   "execution_count": 5,
   "id": "4518acc0-9009-42b1-b936-369e51049f9b",
   "metadata": {},
   "outputs": [
    {
     "data": {
      "text/plain": [
       "[10, 20, 30]"
      ]
     },
     "execution_count": 5,
     "metadata": {},
     "output_type": "execute_result"
    }
   ],
   "source": [
    "list1"
   ]
  },
  {
   "cell_type": "code",
   "execution_count": 6,
   "id": "e251d7b7-210f-4021-bc43-7e4ddfc4c951",
   "metadata": {},
   "outputs": [
    {
     "data": {
      "text/plain": [
       "40"
      ]
     },
     "execution_count": 6,
     "metadata": {},
     "output_type": "execute_result"
    }
   ],
   "source": [
    "list2=[10, 20, 30, 40]\n",
    "list2.pop(-1)"
   ]
  },
  {
   "cell_type": "code",
   "execution_count": 7,
   "id": "c5ad991d-7431-4760-940f-bc1d40bc54dd",
   "metadata": {},
   "outputs": [
    {
     "data": {
      "text/plain": [
       "[10, 20, 30]"
      ]
     },
     "execution_count": 7,
     "metadata": {},
     "output_type": "execute_result"
    }
   ],
   "source": [
    "list2"
   ]
  },
  {
   "cell_type": "markdown",
   "id": "0911d83b-66b4-4dee-91a0-48630b93232f",
   "metadata": {},
   "source": [
    "5.\tWrite a Python code to sort the list [4, 1, 8, 5, 2] in ascending order."
   ]
  },
  {
   "cell_type": "code",
   "execution_count": 8,
   "id": "b53be6f1-1e03-4591-9d30-877e0295b2a7",
   "metadata": {},
   "outputs": [],
   "source": [
    "list3=[4, 1, 8, 5, 2] #descending->reverse=True\n",
    "list3.sort()"
   ]
  },
  {
   "cell_type": "code",
   "execution_count": 9,
   "id": "93ad8876-031d-49a1-833d-822705b5c006",
   "metadata": {},
   "outputs": [
    {
     "data": {
      "text/plain": [
       "[1, 2, 4, 5, 8]"
      ]
     },
     "execution_count": 9,
     "metadata": {},
     "output_type": "execute_result"
    }
   ],
   "source": [
    "list3"
   ]
  },
  {
   "cell_type": "markdown",
   "id": "5836abb0-54f7-43e1-b554-d222f0c61ac6",
   "metadata": {},
   "source": [
    "6.\tCreate a list with mixed data types: an integer, a string, and a floating-point number."
   ]
  },
  {
   "cell_type": "code",
   "execution_count": 10,
   "id": "f81c51bb-4466-450d-a395-6e00965b3404",
   "metadata": {},
   "outputs": [
    {
     "data": {
      "text/plain": [
       "['apple', 90, 20.24]"
      ]
     },
     "execution_count": 10,
     "metadata": {},
     "output_type": "execute_result"
    }
   ],
   "source": [
    "lst5=[\"apple\",90,20.24]  # Heterogenous\n",
    "lst5"
   ]
  },
  {
   "cell_type": "markdown",
   "id": "90b04044-79dc-491a-a879-13a1fdbb19a4",
   "metadata": {},
   "source": [
    "7.\tUse list slicing to get the first three elements of the list [10, 20, 30, 40, 50]."
   ]
  },
  {
   "cell_type": "code",
   "execution_count": 11,
   "id": "8c612a43-13f2-430e-803b-8b39d84c4744",
   "metadata": {},
   "outputs": [
    {
     "data": {
      "text/plain": [
       "[10, 20, 30]"
      ]
     },
     "execution_count": 11,
     "metadata": {},
     "output_type": "execute_result"
    }
   ],
   "source": [
    "list_slice = [10, 20, 30, 40, 50]\n",
    "list_slice[0:3]"
   ]
  },
  {
   "cell_type": "markdown",
   "id": "8f4bd7dd-45e5-42e4-98f4-f3698e27abbe",
   "metadata": {},
   "source": [
    "\n",
    "8.\tCount how many times the number 3 appears in the list [1, 3, 3, 5, 7]."
   ]
  },
  {
   "cell_type": "code",
   "execution_count": 13,
   "id": "b3053789-5ff5-46ef-a0bf-6828405fdca6",
   "metadata": {},
   "outputs": [
    {
     "data": {
      "text/plain": [
       "2"
      ]
     },
     "execution_count": 13,
     "metadata": {},
     "output_type": "execute_result"
    }
   ],
   "source": [
    "list1=[1, 3, 3, 5, 7]\n",
    "list1.count(3)"
   ]
  },
  {
   "cell_type": "markdown",
   "id": "6f8f89e7-1f88-44f7-8e10-e30bfca66fbd",
   "metadata": {},
   "source": [
    "9.\tWrite a Python code to merge the lists [1, 2] and [3, 4] into one list."
   ]
  },
  {
   "cell_type": "code",
   "execution_count": 14,
   "id": "f2e95b76-e8c7-4160-ad6f-5f0ef5c93629",
   "metadata": {},
   "outputs": [
    {
     "data": {
      "text/plain": [
       "[1, 2, 3, 4]"
      ]
     },
     "execution_count": 14,
     "metadata": {},
     "output_type": "execute_result"
    }
   ],
   "source": [
    "list1=[1, 2]\n",
    "list2=[3,4]\n",
    "list3=list1+list2\n",
    "list3"
   ]
  },
  {
   "cell_type": "markdown",
   "id": "777439a3-95f7-42f5-8c56-5ba1c1d2d047",
   "metadata": {},
   "source": [
    "10.\tHow would you clear all the items in the list [\"a\", \"b\", \"c\", \"d\"]?"
   ]
  },
  {
   "cell_type": "code",
   "execution_count": 15,
   "id": "33d83da5-d123-47eb-8332-b3fcaa5ca914",
   "metadata": {},
   "outputs": [
    {
     "name": "stdout",
     "output_type": "stream",
     "text": [
      "[]\n"
     ]
    }
   ],
   "source": [
    "list8= [\"a\", \"b\", \"c\", \"d\"]\n",
    "list8.clear()\n",
    "print(list8)"
   ]
  },
  {
   "cell_type": "code",
   "execution_count": null,
   "id": "5d09dbd2-53ec-464a-945b-7918623e354c",
   "metadata": {},
   "outputs": [],
   "source": []
  }
 ],
 "metadata": {
  "kernelspec": {
   "display_name": "Python 3 (ipykernel)",
   "language": "python",
   "name": "python3"
  },
  "language_info": {
   "codemirror_mode": {
    "name": "ipython",
    "version": 3
   },
   "file_extension": ".py",
   "mimetype": "text/x-python",
   "name": "python",
   "nbconvert_exporter": "python",
   "pygments_lexer": "ipython3",
   "version": "3.11.7"
  }
 },
 "nbformat": 4,
 "nbformat_minor": 5
}
