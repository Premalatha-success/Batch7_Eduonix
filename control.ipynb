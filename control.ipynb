{
 "cells": [
  {
   "cell_type": "code",
   "execution_count": null,
   "id": "cc855cab-41ed-4169-afaf-366e21123b2a",
   "metadata": {},
   "outputs": [],
   "source": [
    "### If ,if else,if elif else ,if elif elif else\n",
    "\n",
    "Write a program to find the greatest of two numbers: 20 or 15 which is greater\n",
    "\n",
    "Write a program to find the greatest of three numbers:"
   ]
  },
  {
   "cell_type": "code",
   "execution_count": 2,
   "id": "85ad224d-cecc-4592-b3c5-3adf1975148c",
   "metadata": {},
   "outputs": [
    {
     "name": "stdout",
     "output_type": "stream",
     "text": [
      "b\n"
     ]
    }
   ],
   "source": [
    "a=15\n",
    "b=20\n",
    "\n",
    "if a>b:\n",
    "    print(\"a\")\n",
    "else:\n",
    "    print(\"b\")"
   ]
  },
  {
   "cell_type": "code",
   "execution_count": 5,
   "id": "b594ff19-a5ce-4f8d-b3d6-44e4ecd10c22",
   "metadata": {},
   "outputs": [
    {
     "name": "stdout",
     "output_type": "stream",
     "text": [
      "b is greater\n"
     ]
    }
   ],
   "source": [
    "a=100\n",
    "b=150\n",
    "c=20\n",
    "\n",
    "if a>b and a>c:\n",
    "    print(\"a is greater\")\n",
    "elif b>a and b>c:\n",
    "    print(\"b is greater\")\n",
    "else:\n",
    "    print(\"c is greater\")"
   ]
  },
  {
   "cell_type": "code",
   "execution_count": 6,
   "id": "a8dab2d0-54ba-4697-8e1a-f8e3092be42d",
   "metadata": {},
   "outputs": [
    {
     "name": "stdout",
     "output_type": "stream",
     "text": [
      "The count variable is : 1\n",
      "The count variable is : 2\n",
      "The count variable is : 3\n",
      "The count variable is : 4\n",
      "The count variable is : 5\n",
      "The count variable is : 6\n",
      "The count variable is : 7\n",
      "The count variable is : 8\n",
      "The count variable is : 9\n"
     ]
    }
   ],
   "source": [
    "count=1\n",
    "\n",
    "while count <10:\n",
    "    print(\"The count variable is :\",count)\n",
    "    count=count+1\n"
   ]
  },
  {
   "cell_type": "code",
   "execution_count": 9,
   "id": "f218cc11-4f2c-40f1-8133-a9e6c6a7251e",
   "metadata": {},
   "outputs": [
    {
     "name": "stdout",
     "output_type": "stream",
     "text": [
      "The count variable is: 1\n",
      "The count variable is: 2\n",
      "The count variable is: 3\n",
      "The count variable is: 4\n",
      "The count variable is: 5\n",
      "The count variable is: 6\n",
      "The count variable is: 7\n",
      "The count variable is: 8\n",
      "The count variable is: 9\n"
     ]
    }
   ],
   "source": [
    "### Try with other numbers\n",
    "\n",
    "for count1 in range(1, 10): \n",
    "    print(\"The count variable is:\", count1)"
   ]
  },
  {
   "cell_type": "code",
   "execution_count": 11,
   "id": "79c8c2ec-8c64-40b5-a490-a28ae63ffa61",
   "metadata": {},
   "outputs": [
    {
     "name": "stdout",
     "output_type": "stream",
     "text": [
      "Current letter is: P\n",
      "Current letter is: r\n",
      "Current letter is: e\n",
      "Current letter is: m\n",
      "Current letter is: a\n",
      "Current letter is: l\n",
      "Current letter is: a\n",
      "Current letter is: t\n",
      "Current letter is: h\n",
      "Current letter is: a\n"
     ]
    }
   ],
   "source": [
    "for i in \"Premalatha\":\n",
    "    print(\"Current letter is:\",i)"
   ]
  },
  {
   "cell_type": "code",
   "execution_count": 12,
   "id": "4b4bb2ab-0c51-4786-964e-b476c31d652f",
   "metadata": {},
   "outputs": [
    {
     "name": "stdout",
     "output_type": "stream",
     "text": [
      "Apple\n",
      "Mango\n",
      "Orange\n",
      "Cherry\n"
     ]
    }
   ],
   "source": [
    "fruits_list=[\"Apple\",\"Mango\",\"Orange\",\"Cherry\"]\n",
    "for i in fruits_list:\n",
    "    print(i)"
   ]
  },
  {
   "cell_type": "code",
   "execution_count": 15,
   "id": "d482488e-fb6c-4146-ade1-003d1083e8d0",
   "metadata": {},
   "outputs": [
    {
     "name": "stdout",
     "output_type": "stream",
     "text": [
      "100\n",
      "441\n",
      "2601\n",
      "144\n",
      "256\n"
     ]
    }
   ],
   "source": [
    "number_list=[10,21,51,12,16]\n",
    "for i in number_list:\n",
    "    square=i**2\n",
    "    print(square)"
   ]
  },
  {
   "cell_type": "code",
   "execution_count": 16,
   "id": "3970a4be-39d2-405f-ae7b-193eaa7612a5",
   "metadata": {},
   "outputs": [
    {
     "name": "stdout",
     "output_type": "stream",
     "text": [
      "the even number : 0\n",
      "the even number : 2\n",
      "the even number : 4\n",
      "the even number : 6\n",
      "the even number : 8\n"
     ]
    }
   ],
   "source": [
    "count=0\n",
    "\n",
    "while count <10:\n",
    "    print(\"the even number :\",count)\n",
    "    count=count+2"
   ]
  },
  {
   "cell_type": "code",
   "execution_count": 18,
   "id": "21977b78-925d-47d9-8bc0-5385d22d92f3",
   "metadata": {},
   "outputs": [
    {
     "name": "stdout",
     "output_type": "stream",
     "text": [
      "0\n",
      "2\n",
      "4\n",
      "6\n",
      "8\n",
      "10\n"
     ]
    }
   ],
   "source": [
    "even=[0,1,2,3,4,5]\n",
    "for i in even:\n",
    "    even1=i*2\n",
    "    print(even1)"
   ]
  },
  {
   "cell_type": "code",
   "execution_count": 20,
   "id": "db848e3e-1004-46be-a523-9475ba6d4e4f",
   "metadata": {},
   "outputs": [
    {
     "name": "stdout",
     "output_type": "stream",
     "text": [
      "9 is not even.\n"
     ]
    }
   ],
   "source": [
    "num = 9  #i take a exmple\n",
    "\n",
    "if num % 2 == 0:\n",
    "    print(f\"{num} is even.\")\n",
    "else:\n",
    "    print(f\"{num} is not even.\")"
   ]
  },
  {
   "cell_type": "code",
   "execution_count": 22,
   "id": "c04d0a79-1cb8-404b-8815-9ef933db08ee",
   "metadata": {},
   "outputs": [
    {
     "name": "stdout",
     "output_type": "stream",
     "text": [
      "9 is not divisible by 5.\n"
     ]
    }
   ],
   "source": [
    "num = 9  #i take a exmple\n",
    "\n",
    "if num % 5 == 0:\n",
    "    print(f\"{num} is divisible by 5.\")\n",
    "else:\n",
    "    print(f\"{num} is not divisible by 5.\")"
   ]
  },
  {
   "cell_type": "code",
   "execution_count": null,
   "id": "5187b417-2db0-4385-93f4-dcb84aceb2bb",
   "metadata": {},
   "outputs": [],
   "source": [
    "### Write a program to find whether the number is a prime or not"
   ]
  }
 ],
 "metadata": {
  "kernelspec": {
   "display_name": "Python 3 (ipykernel)",
   "language": "python",
   "name": "python3"
  },
  "language_info": {
   "codemirror_mode": {
    "name": "ipython",
    "version": 3
   },
   "file_extension": ".py",
   "mimetype": "text/x-python",
   "name": "python",
   "nbconvert_exporter": "python",
   "pygments_lexer": "ipython3",
   "version": "3.11.7"
  }
 },
 "nbformat": 4,
 "nbformat_minor": 5
}
